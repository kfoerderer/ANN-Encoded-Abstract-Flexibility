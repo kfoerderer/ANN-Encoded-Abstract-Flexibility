{
 "cells": [
  {
   "cell_type": "markdown",
   "metadata": {},
   "source": [
    "# Read and Convert data"
   ]
  },
  {
   "cell_type": "code",
   "execution_count": 270,
   "metadata": {},
   "outputs": [],
   "source": [
    "import numpy as np"
   ]
  },
  {
   "cell_type": "code",
   "execution_count": 327,
   "metadata": {},
   "outputs": [],
   "source": [
    "power = np.load('data/real_eshl_chp/real_eshl_chp_power.npy')\n",
    "temperature = np.load('data/real_eshl_chp/real_eshl_chp_initial_temperature.npy')\n",
    "month = np.load('data/real_eshl_chp/real_eshl_chp_month.npy')"
   ]
  },
  {
   "cell_type": "code",
   "execution_count": 328,
   "metadata": {
    "scrolled": true
   },
   "outputs": [],
   "source": [
    "# normalize data\n",
    "\n",
    "# power \\in [-1.0;0.0]\n",
    "power = np.clip(power / 5500.0, -1.0, 0.0)\n",
    "\n",
    "# temperature [50; 75] -> soc [0.0;1.0]\n",
    "soc = np.clip((temperature-50)/25.0, 0.0, 1.0)"
   ]
  },
  {
   "cell_type": "code",
   "execution_count": 329,
   "metadata": {},
   "outputs": [],
   "source": [
    "# filter out days with deactivated chp and non-winter days\n",
    "\n",
    "filterarray = (np.abs(power.sum(axis=1)) > 0.01) & ((month >= 11) | (month <= 2))\n",
    "\n",
    "power = power[filterarray]\n",
    "soc = soc[filterarray]"
   ]
  },
  {
   "cell_type": "markdown",
   "metadata": {},
   "source": [
    "# NN Test"
   ]
  },
  {
   "cell_type": "code",
   "execution_count": 172,
   "metadata": {},
   "outputs": [
    {
     "name": "stdout",
     "output_type": "stream",
     "text": [
      "env: CUDA_VISIBLE_DEVICES=\"\"\n"
     ]
    }
   ],
   "source": [
    "%env CUDA_VISIBLE_DEVICES=\"\"\n",
    "import numpy as np\n",
    "import matplotlib\n",
    "%matplotlib inline\n",
    "import matplotlib.pyplot as plt\n",
    "from sklearn import metrics\n",
    "from keras import backend as K\n",
    "from keras import models, layers, callbacks"
   ]
  },
  {
   "cell_type": "code",
   "execution_count": 315,
   "metadata": {},
   "outputs": [],
   "source": [
    "from keras.models import Sequential, Model\n",
    "from keras.layers import Input, Dense, Reshape, Lambda, Conv1D, LSTM, CuDNNLSTM, Flatten, Concatenate, TimeDistributed, AveragePooling1D, MaxPooling1D, Dropout\n",
    "from keras.callbacks import ModelCheckpoint, History, Callback\n",
    "\n",
    "model_filename = 'data/experiments/classification5min/35/model.hdf5'\n",
    "\n",
    "def build_model(input_shape, rnn_units):\n",
    "    l0 = Input(shape=input_shape)\n",
    "\n",
    "    l11 = Lambda(lambda x: x[:, :5, 0])(l0)\n",
    "    l12 = Lambda(lambda x: x[:, 5:, :])(l0)\n",
    "\n",
    "    l11h = Dense(rnn_units)(l11)\n",
    "    l11c = Dense(rnn_units)(l11)\n",
    "\n",
    "    rnn = LSTM(rnn_units)\n",
    "    l2 = rnn(l12, initial_state=[l11h, l11c])\n",
    "    l3 = Dense(1, activation='sigmoid')(l2)\n",
    "\n",
    "    model = Model(inputs=l0, outputs=l3)\n",
    "    model.compile(loss='binary_crossentropy',\n",
    "                  optimizer='Adam')\n",
    "    model.summary()\n",
    "    return model\n",
    "\n",
    "model_filename = 'data/experiments/classification/83/model.hdf5'\n",
    "def build_model_cnn(input_shape):\n",
    "    l0 = Input(shape=input_shape)\n",
    "\n",
    "    l11 = Lambda(lambda x: x[:, :5, 0])(l0)\n",
    "    l12 = Lambda(lambda x: x[:, 5:, :])(l0)\n",
    "\n",
    "    x = l12\n",
    "    x = Conv1D(48, 5, activation='relu', padding='same')(x)\n",
    "    x = MaxPooling1D(pool_size=2)(x)\n",
    "    x = Conv1D(48, 3, activation='relu', padding='same')(x)\n",
    "    x = MaxPooling1D(pool_size=2)(x)\n",
    "    x = Conv1D(24, 3, activation='relu', padding='same')(x)\n",
    "    x = MaxPooling1D(pool_size=2)(x)\n",
    "    x = Flatten()(x)\n",
    "    x = Dropout(0.5)(x)\n",
    "    x = Concatenate()([x, l11])\n",
    "    x = Dense(12, activation='relu')(x)\n",
    "    x = Dense(1, activation='sigmoid')(x)\n",
    "\n",
    "    model = Model(inputs=l0, outputs=x)\n",
    "    model.compile(loss='binary_crossentropy',\n",
    "                  optimizer='Adam')\n",
    "    model.summary()\n",
    "    return model"
   ]
  },
  {
   "cell_type": "code",
   "execution_count": 316,
   "metadata": {},
   "outputs": [
    {
     "name": "stdout",
     "output_type": "stream",
     "text": [
      "__________________________________________________________________________________________________\n",
      "Layer (type)                    Output Shape         Param #     Connected to                     \n",
      "==================================================================================================\n",
      "input_4 (InputLayer)            (None, 101, 1)       0                                            \n",
      "__________________________________________________________________________________________________\n",
      "lambda_8 (Lambda)               (None, 96, 1)        0           input_4[0][0]                    \n",
      "__________________________________________________________________________________________________\n",
      "conv1d_5 (Conv1D)               (None, 96, 48)       288         lambda_8[0][0]                   \n",
      "__________________________________________________________________________________________________\n",
      "max_pooling1d_4 (MaxPooling1D)  (None, 48, 48)       0           conv1d_5[0][0]                   \n",
      "__________________________________________________________________________________________________\n",
      "conv1d_6 (Conv1D)               (None, 48, 48)       6960        max_pooling1d_4[0][0]            \n",
      "__________________________________________________________________________________________________\n",
      "max_pooling1d_5 (MaxPooling1D)  (None, 24, 48)       0           conv1d_6[0][0]                   \n",
      "__________________________________________________________________________________________________\n",
      "conv1d_7 (Conv1D)               (None, 24, 24)       3480        max_pooling1d_5[0][0]            \n",
      "__________________________________________________________________________________________________\n",
      "max_pooling1d_6 (MaxPooling1D)  (None, 12, 24)       0           conv1d_7[0][0]                   \n",
      "__________________________________________________________________________________________________\n",
      "flatten_2 (Flatten)             (None, 288)          0           max_pooling1d_6[0][0]            \n",
      "__________________________________________________________________________________________________\n",
      "dropout_1 (Dropout)             (None, 288)          0           flatten_2[0][0]                  \n",
      "__________________________________________________________________________________________________\n",
      "lambda_7 (Lambda)               (None, 5)            0           input_4[0][0]                    \n",
      "__________________________________________________________________________________________________\n",
      "concatenate_1 (Concatenate)     (None, 293)          0           dropout_1[0][0]                  \n",
      "                                                                 lambda_7[0][0]                   \n",
      "__________________________________________________________________________________________________\n",
      "dense_4 (Dense)                 (None, 12)           3528        concatenate_1[0][0]              \n",
      "__________________________________________________________________________________________________\n",
      "dense_5 (Dense)                 (None, 1)            13          dense_4[0][0]                    \n",
      "==================================================================================================\n",
      "Total params: 14,269\n",
      "Trainable params: 14,269\n",
      "Non-trainable params: 0\n",
      "__________________________________________________________________________________________________\n"
     ]
    }
   ],
   "source": [
    "#model = build_model(input_shape=(101,1),rnn_units=20)\n",
    "model = build_model_cnn(input_shape=(101,1))"
   ]
  },
  {
   "cell_type": "code",
   "execution_count": 317,
   "metadata": {},
   "outputs": [],
   "source": [
    "model.load_weights(model_filename)"
   ]
  },
  {
   "cell_type": "code",
   "execution_count": 332,
   "metadata": {},
   "outputs": [],
   "source": [
    "num_samples = power.shape[0]\n",
    "test_x = np.zeros((num_samples,101,1))\n",
    "test_x[:,0:5,0] = np.tile(np.array([0,0,1,0,0]), (num_samples,1))\n",
    "test_x[:,3,0] = soc\n",
    "test_x[:,5:,0] = power\n",
    "test_x\n",
    "pred_y = model.predict(test_x)"
   ]
  },
  {
   "cell_type": "code",
   "execution_count": 333,
   "metadata": {},
   "outputs": [
    {
     "data": {
      "text/plain": [
       "47"
      ]
     },
     "execution_count": 333,
     "metadata": {},
     "output_type": "execute_result"
    }
   ],
   "source": [
    "(pred_y > 0.5).sum()"
   ]
  },
  {
   "cell_type": "code",
   "execution_count": 334,
   "metadata": {},
   "outputs": [
    {
     "data": {
      "text/plain": [
       "0.92156862745098034"
      ]
     },
     "execution_count": 334,
     "metadata": {},
     "output_type": "execute_result"
    }
   ],
   "source": [
    "_ / num_samples"
   ]
  },
  {
   "cell_type": "code",
   "execution_count": 335,
   "metadata": {},
   "outputs": [
    {
     "data": {
      "text/plain": [
       "51"
      ]
     },
     "execution_count": 335,
     "metadata": {},
     "output_type": "execute_result"
    }
   ],
   "source": [
    "num_samples"
   ]
  },
  {
   "cell_type": "code",
   "execution_count": 322,
   "metadata": {},
   "outputs": [
    {
     "data": {
      "text/plain": [
       "(array([ 10.,   0.,   0.,   0.,   0.,   0.,   0.,   0.,   0.,   0.,   0.,\n",
       "          0.,   0.,   0.,   0.,   0.,   0.,   0.,   0.,   0.,   0.,   0.,\n",
       "          0.,   0.,   0.,   1.,   0.,   0.,   0.,   0.,   0.,   0.,   0.,\n",
       "          0.,   0.,   0.,   0.,   0.,   1.,   0.,   0.,   0.,   0.,   0.,\n",
       "          0.,   1.,   3.,   0.,   3.,   6.,   1.,   0.,   4.,   3.,   0.,\n",
       "          1.,   2.,   2.,   0.,   2.,   3.,   0.,   1.,   1.,   0.,   0.,\n",
       "          0.,   5.,   0.,   6.,   2.,   9.,   0.,   4.,   5.,   0.,   2.,\n",
       "          5.,  11.,   0.,  23.,  22.,   0.,  30.,  24.,  18.,   0.,  10.,\n",
       "          6.,   0.,  10.,  13.,   9.,   0.,   3.,   2.,   0.,   5.,   3.,\n",
       "          1.]),\n",
       " array([  5.7  ,   6.413,   7.126,   7.839,   8.552,   9.265,   9.978,\n",
       "         10.691,  11.404,  12.117,  12.83 ,  13.543,  14.256,  14.969,\n",
       "         15.682,  16.395,  17.108,  17.821,  18.534,  19.247,  19.96 ,\n",
       "         20.673,  21.386,  22.099,  22.812,  23.525,  24.238,  24.951,\n",
       "         25.664,  26.377,  27.09 ,  27.803,  28.516,  29.229,  29.942,\n",
       "         30.655,  31.368,  32.081,  32.794,  33.507,  34.22 ,  34.933,\n",
       "         35.646,  36.359,  37.072,  37.785,  38.498,  39.211,  39.924,\n",
       "         40.637,  41.35 ,  42.063,  42.776,  43.489,  44.202,  44.915,\n",
       "         45.628,  46.341,  47.054,  47.767,  48.48 ,  49.193,  49.906,\n",
       "         50.619,  51.332,  52.045,  52.758,  53.471,  54.184,  54.897,\n",
       "         55.61 ,  56.323,  57.036,  57.749,  58.462,  59.175,  59.888,\n",
       "         60.601,  61.314,  62.027,  62.74 ,  63.453,  64.166,  64.879,\n",
       "         65.592,  66.305,  67.018,  67.731,  68.444,  69.157,  69.87 ,\n",
       "         70.583,  71.296,  72.009,  72.722,  73.435,  74.148,  74.861,\n",
       "         75.574,  76.287,  77.   ]),\n",
       " <a list of 100 Patch objects>)"
      ]
     },
     "execution_count": 322,
     "metadata": {},
     "output_type": "execute_result"
    },
    {
     "data": {
      "image/png": "[encoded data removed]",
      "text/plain": [
       "<matplotlib.figure.Figure at 0x7f57d3389f60>"
      ]
     },
     "metadata": {},
     "output_type": "display_data"
    }
   ],
   "source": [
    "plt.hist(temperature, bins=100)"
   ]
  },
  {
   "cell_type": "code",
   "execution_count": null,
   "metadata": {},
   "outputs": [],
   "source": []
  }
 ],
 "metadata": {
  "kernelspec": {
   "display_name": "Python 3",
   "language": "python",
   "name": "python3"
  },
  "language_info": {
   "codemirror_mode": {
    "name": "ipython",
    "version": 3
   },
   "file_extension": ".py",
   "mimetype": "text/x-python",
   "name": "python",
   "nbconvert_exporter": "python",
   "pygments_lexer": "ipython3",
   "version": "3.5.2"
  }
 },
 "nbformat": 4,
 "nbformat_minor": 2
}
